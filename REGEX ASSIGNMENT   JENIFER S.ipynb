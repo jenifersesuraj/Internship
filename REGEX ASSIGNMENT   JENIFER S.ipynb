{
 "cells": [
  {
   "cell_type": "markdown",
   "id": "8e35e2f8",
   "metadata": {},
   "source": [
    " REGEX ASSIGNMENT"
   ]
  },
  {
   "cell_type": "markdown",
   "id": "cae49a91",
   "metadata": {},
   "source": [
    "Question 1- Write a Python program to replace all occurrences of a space, comma, or dot with a colon.\n",
    "\n",
    "Sample Text- 'Python Exercises, PHP exercises.'\n",
    "\n",
    "Expected Output: Python:Exercises::PHP:exercises:"
   ]
  },
  {
   "cell_type": "code",
   "execution_count": 1,
   "id": "cfa3c88d",
   "metadata": {},
   "outputs": [
    {
     "name": "stdout",
     "output_type": "stream",
     "text": [
      "Python:Exercises::PHP:exercises:\n"
     ]
    }
   ],
   "source": [
    "#1] Answer\n",
    "import regex as re \n",
    "Sample_Text='Python Exercises, PHP exercises.'\n",
    "Expected_Output=re.sub(r\"\\s|,|.$\",\":\",Sample_Text)\n",
    "print(Expected_Output)"
   ]
  },
  {
   "cell_type": "markdown",
   "id": "2e15171d",
   "metadata": {},
   "source": [
    "\n",
    "Question 2- Create a dataframe using the dictionary below and remove everything (commas (,), !, XXXX, ;, etc.) from the columns except words.\n",
    "\n",
    "Dictionary- {'SUMMARY' : ['hello, world!', 'XXXXX test', '123four, five:; six...']}\n",
    "\n",
    "Expected output- 0 hello world 1 test 2 four five six"
   ]
  },
  {
   "cell_type": "code",
   "execution_count": 2,
   "id": "28e79545",
   "metadata": {},
   "outputs": [
    {
     "data": {
      "text/html": [
       "<div>\n",
       "<style scoped>\n",
       "    .dataframe tbody tr th:only-of-type {\n",
       "        vertical-align: middle;\n",
       "    }\n",
       "\n",
       "    .dataframe tbody tr th {\n",
       "        vertical-align: top;\n",
       "    }\n",
       "\n",
       "    .dataframe thead th {\n",
       "        text-align: right;\n",
       "    }\n",
       "</style>\n",
       "<table border=\"1\" class=\"dataframe\">\n",
       "  <thead>\n",
       "    <tr style=\"text-align: right;\">\n",
       "      <th></th>\n",
       "      <th>SUMMARY</th>\n",
       "    </tr>\n",
       "  </thead>\n",
       "  <tbody>\n",
       "    <tr>\n",
       "      <th>0</th>\n",
       "      <td>hello  world</td>\n",
       "    </tr>\n",
       "    <tr>\n",
       "      <th>1</th>\n",
       "      <td>test</td>\n",
       "    </tr>\n",
       "    <tr>\n",
       "      <th>2</th>\n",
       "      <td>four  five   six</td>\n",
       "    </tr>\n",
       "  </tbody>\n",
       "</table>\n",
       "</div>"
      ],
      "text/plain": [
       "                  SUMMARY\n",
       "0           hello  world \n",
       "1                    test\n",
       "2     four  five   six   "
      ]
     },
     "execution_count": 2,
     "metadata": {},
     "output_type": "execute_result"
    }
   ],
   "source": [
    "import pandas as pd\n",
    "import re\n",
    "\n",
    "data = {'SUMMARY': ['hello, world!', 'XXXXX test', '123four, five:; six...']}\n",
    "df = pd.DataFrame(data)\n",
    "df['SUMMARY'] = df['SUMMARY'].apply(lambda x: re.sub(r'[\\W\\d]|[XXXXX]', ' ', x))\n",
    "df"
   ]
  },
  {
   "cell_type": "markdown",
   "id": "937aa523",
   "metadata": {},
   "source": [
    "Question 3- Create a function in python to find all words that are at least 4 characters long in a string. The use of the re.compile() method is mandatory."
   ]
  },
  {
   "cell_type": "code",
   "execution_count": 3,
   "id": "d94f87e3",
   "metadata": {},
   "outputs": [
    {
     "name": "stdout",
     "output_type": "stream",
     "text": [
      "['This', 'famous', 'temple', 'dedicated', 'Lord', 'Shiva']\n"
     ]
    }
   ],
   "source": [
    "import re\n",
    "string1=\"This famous temple is dedicated to Lord Shiva\"\n",
    "pattern=r'\\w{4,}'\n",
    "apply=re.compile(pattern)\n",
    "out=apply.findall(string1)\n",
    "print(out)"
   ]
  },
  {
   "cell_type": "markdown",
   "id": "7eab82a9",
   "metadata": {},
   "source": [
    "Question 4- Create a function in python to find all three, four, and five character words in a string. The use of the re.compile() method is mandatory"
   ]
  },
  {
   "cell_type": "code",
   "execution_count": 4,
   "id": "aa8840e1",
   "metadata": {},
   "outputs": [
    {
     "name": "stdout",
     "output_type": "stream",
     "text": [
      "['When', 'large', 'patch', 'land', 'used', 'for', 'then', 'call']\n"
     ]
    }
   ],
   "source": [
    "string2=\"When a large patch of land is used for cultivation then we call it as  extensive farming\"\n",
    "a=re.compile(r'\\b\\w{3,5}+\\b')\n",
    "output=a.findall(string2)\n",
    "print(output)"
   ]
  },
  {
   "cell_type": "markdown",
   "id": "9a035897",
   "metadata": {},
   "source": [
    "Question 5- Create a function in Python to remove the parenthesis in a list of strings. The use of the re.compile() method is mandatory. \n",
    "\n",
    "Sample Text: [\"example (.com)\", \"hr@fliprobo (.com)\", \"github (.com)\", \"Hello (Data Science World)\", \"Data (Scientist)\"] \n",
    "\n",
    "Expected Output: example.com hr@fliprobo.com github.com Hello Data Science World Data Scientist"
   ]
  },
  {
   "cell_type": "code",
   "execution_count": 5,
   "id": "78010d92",
   "metadata": {},
   "outputs": [
    {
     "name": "stdout",
     "output_type": "stream",
     "text": [
      "example .com\n",
      "hr@fliprobo .com\n",
      "github .com\n",
      "Hello Data Science World\n",
      "Data Scientist\n",
      "------------------------------\n",
      "example.com\n",
      "hr@fliprobo.com\n",
      "github.com\n",
      "HelloDataScienceWorld\n",
      "DataScientist\n"
     ]
    }
   ],
   "source": [
    "S=[\"example (.com)\", \"hr@fliprobo (.com)\", \"github (.com)\", \"Hello (Data Science World)\", \"Data (Scientist)\"]\n",
    "a=re.compile(r\"[()]+|,\")\n",
    "\n",
    "for i in S:\n",
    "    x=a.sub(\"\",i)\n",
    "    print(x)\n",
    "#without space\n",
    "print(\"-\"*30)\n",
    "a=re.compile(r\"[()\\s]+|,\")\n",
    "for i in S:\n",
    "    x=a.sub(\"\",i)\n",
    "    print(x)"
   ]
  },
  {
   "cell_type": "markdown",
   "id": "6fb1e0a1",
   "metadata": {},
   "source": [
    "Question 6- Write a python program to remove the parenthesis area from the text stored in the text file using Regular Expression. \n",
    "\n",
    "Sample Text: [\"example (.com)\", \"hr@fliprobo (.com)\", \"github (.com)\", \"Hello (Data Science World)\", \"Data (Scientist)\"] \n",
    "\n",
    "Expected Output: [\"example\", \"hr@fliprobo\", \"github\", \"Hello\", \"Data\"] \n",
    "\n",
    "Note- Store given sample text in the text file and then to remove the parenthesis area from the text."
   ]
  },
  {
   "cell_type": "code",
   "execution_count": 6,
   "id": "eb805d2e",
   "metadata": {},
   "outputs": [
    {
     "name": "stdout",
     "output_type": "stream",
     "text": [
      "['example.com', 'hr@fliprobo.com', 'github.com', 'HelloDataScienceWorld', 'DataScientist']\n"
     ]
    }
   ],
   "source": [
    "S=[\"example (.com)\", \"hr@fliprobo (.com)\", \"github (.com)\", \"Hello (Data Science World)\", \"Data (Scientist)\"]\n",
    "output=[]\n",
    "a=re.compile(r\"[\\s()]+|,\")\n",
    "\n",
    "for i in S:\n",
    "    x=a.sub(\"\",i)\n",
    "    output.append(x)\n",
    "    \n",
    "print(output)"
   ]
  },
  {
   "cell_type": "markdown",
   "id": "763001b7",
   "metadata": {},
   "source": [
    "Question 7- Write a regular expression in Python to split a string into uppercase letters. \n",
    "\n",
    "Sample text: “ImportanceOfRegularExpressionsInPython” \n",
    "\n",
    "Expected Output: [‘Importance’, ‘Of’, ‘Regular’, ‘Expression’, ‘In’, ‘Python’]"
   ]
  },
  {
   "cell_type": "code",
   "execution_count": 7,
   "id": "478ae6bd",
   "metadata": {},
   "outputs": [
    {
     "name": "stdout",
     "output_type": "stream",
     "text": [
      "['Importance', 'Of', 'Regular', 'Expressions', 'In', 'Python']\n"
     ]
    }
   ],
   "source": [
    "Sample_text=\"ImportanceOfRegularExpressionsInPython\"\n",
    "pat=r\"[A-Z][^A-Z]*\"\n",
    "ree=re.compile(pat)\n",
    "r=ree.findall(Sample_text)\n",
    "print(r)"
   ]
  },
  {
   "cell_type": "markdown",
   "id": "3e88cab3",
   "metadata": {},
   "source": [
    "Question 8- Create a function in python to insert spaces between words starting with numbers. \n",
    "\n",
    "Sample Text: “RegularExpression1IsAn2ImportantTopic3InPython\" \n",
    "\n",
    "Expected Output: RegularExpression 1IsAn 2ImportantTopic 3InPython"
   ]
  },
  {
   "cell_type": "code",
   "execution_count": 8,
   "id": "3e8cc33f",
   "metadata": {},
   "outputs": [
    {
     "name": "stdout",
     "output_type": "stream",
     "text": [
      "RegularExpression 1IsAn 2ImportantTopic 3InPython\n"
     ]
    }
   ],
   "source": [
    "def ins_space(str):\n",
    "  pattern = r'(\\d+)([A-Za-z]+)'\n",
    "  expected= re.sub(pattern, r' \\1\\2',str)\n",
    "  return expected\n",
    "print(ins_space(\"RegularExpression1IsAn2ImportantTopic3InPython\"))"
   ]
  },
  {
   "cell_type": "markdown",
   "id": "09042125",
   "metadata": {},
   "source": [
    "Question 9- Create a function in python to insert spaces between words starting with capital letters or with numbers.\n",
    "\n",
    "Sample Text: “RegularExpression1IsAn2ImportantTopic3InPython\"\n",
    "\n",
    "Expected Output:  RegularExpression 1 IsAn 2 ImportantTopic 3 InPython\n"
   ]
  },
  {
   "cell_type": "code",
   "execution_count": 9,
   "id": "9cd81d1f",
   "metadata": {},
   "outputs": [
    {
     "name": "stdout",
     "output_type": "stream",
     "text": [
      "RegularExpression 1 IsAn 2 ImportantTopic 3 InPython\n"
     ]
    }
   ],
   "source": [
    "def ins_space(str):\n",
    "  pattern = r'(\\d+)([A-Za-z]+)'\n",
    "  expected= re.sub(pattern, r' \\1 \\2',str)\n",
    "  return expected\n",
    "print(ins_space(\"RegularExpression1IsAn2ImportantTopic3InPython\"))"
   ]
  },
  {
   "cell_type": "markdown",
   "id": "4e3e1131",
   "metadata": {},
   "source": [
    "Question 10- Use the github link below to read the data and create a dataframe. \n",
    "After creating the dataframe extract the first 6 letters of each country and\n",
    "store in the dataframe under a new column called first_five_letters. \n",
    "Github Link- https://raw.githubusercontent.com/dsrscientist/DSData/master/happiness_score_dataset.csv"
   ]
  },
  {
   "cell_type": "code",
   "execution_count": 10,
   "id": "88550791",
   "metadata": {},
   "outputs": [
    {
     "data": {
      "text/html": [
       "<div>\n",
       "<style scoped>\n",
       "    .dataframe tbody tr th:only-of-type {\n",
       "        vertical-align: middle;\n",
       "    }\n",
       "\n",
       "    .dataframe tbody tr th {\n",
       "        vertical-align: top;\n",
       "    }\n",
       "\n",
       "    .dataframe thead th {\n",
       "        text-align: right;\n",
       "    }\n",
       "</style>\n",
       "<table border=\"1\" class=\"dataframe\">\n",
       "  <thead>\n",
       "    <tr style=\"text-align: right;\">\n",
       "      <th></th>\n",
       "      <th>Country</th>\n",
       "      <th>Region</th>\n",
       "      <th>Happiness Rank</th>\n",
       "      <th>Happiness Score</th>\n",
       "      <th>Standard Error</th>\n",
       "      <th>Economy (GDP per Capita)</th>\n",
       "      <th>Family</th>\n",
       "      <th>Health (Life Expectancy)</th>\n",
       "      <th>Freedom</th>\n",
       "      <th>Trust (Government Corruption)</th>\n",
       "      <th>Generosity</th>\n",
       "      <th>Dystopia Residual</th>\n",
       "      <th>first_five_letters</th>\n",
       "    </tr>\n",
       "  </thead>\n",
       "  <tbody>\n",
       "    <tr>\n",
       "      <th>0</th>\n",
       "      <td>Switzerland</td>\n",
       "      <td>Western Europe</td>\n",
       "      <td>1</td>\n",
       "      <td>7.587</td>\n",
       "      <td>0.03411</td>\n",
       "      <td>1.39651</td>\n",
       "      <td>1.34951</td>\n",
       "      <td>0.94143</td>\n",
       "      <td>0.66557</td>\n",
       "      <td>0.41978</td>\n",
       "      <td>0.29678</td>\n",
       "      <td>2.51738</td>\n",
       "      <td>Switze</td>\n",
       "    </tr>\n",
       "    <tr>\n",
       "      <th>1</th>\n",
       "      <td>Iceland</td>\n",
       "      <td>Western Europe</td>\n",
       "      <td>2</td>\n",
       "      <td>7.561</td>\n",
       "      <td>0.04884</td>\n",
       "      <td>1.30232</td>\n",
       "      <td>1.40223</td>\n",
       "      <td>0.94784</td>\n",
       "      <td>0.62877</td>\n",
       "      <td>0.14145</td>\n",
       "      <td>0.43630</td>\n",
       "      <td>2.70201</td>\n",
       "      <td>Icelan</td>\n",
       "    </tr>\n",
       "    <tr>\n",
       "      <th>2</th>\n",
       "      <td>Denmark</td>\n",
       "      <td>Western Europe</td>\n",
       "      <td>3</td>\n",
       "      <td>7.527</td>\n",
       "      <td>0.03328</td>\n",
       "      <td>1.32548</td>\n",
       "      <td>1.36058</td>\n",
       "      <td>0.87464</td>\n",
       "      <td>0.64938</td>\n",
       "      <td>0.48357</td>\n",
       "      <td>0.34139</td>\n",
       "      <td>2.49204</td>\n",
       "      <td>Denmar</td>\n",
       "    </tr>\n",
       "    <tr>\n",
       "      <th>3</th>\n",
       "      <td>Norway</td>\n",
       "      <td>Western Europe</td>\n",
       "      <td>4</td>\n",
       "      <td>7.522</td>\n",
       "      <td>0.03880</td>\n",
       "      <td>1.45900</td>\n",
       "      <td>1.33095</td>\n",
       "      <td>0.88521</td>\n",
       "      <td>0.66973</td>\n",
       "      <td>0.36503</td>\n",
       "      <td>0.34699</td>\n",
       "      <td>2.46531</td>\n",
       "      <td>Norway</td>\n",
       "    </tr>\n",
       "    <tr>\n",
       "      <th>4</th>\n",
       "      <td>Canada</td>\n",
       "      <td>North America</td>\n",
       "      <td>5</td>\n",
       "      <td>7.427</td>\n",
       "      <td>0.03553</td>\n",
       "      <td>1.32629</td>\n",
       "      <td>1.32261</td>\n",
       "      <td>0.90563</td>\n",
       "      <td>0.63297</td>\n",
       "      <td>0.32957</td>\n",
       "      <td>0.45811</td>\n",
       "      <td>2.45176</td>\n",
       "      <td>Canada</td>\n",
       "    </tr>\n",
       "    <tr>\n",
       "      <th>...</th>\n",
       "      <td>...</td>\n",
       "      <td>...</td>\n",
       "      <td>...</td>\n",
       "      <td>...</td>\n",
       "      <td>...</td>\n",
       "      <td>...</td>\n",
       "      <td>...</td>\n",
       "      <td>...</td>\n",
       "      <td>...</td>\n",
       "      <td>...</td>\n",
       "      <td>...</td>\n",
       "      <td>...</td>\n",
       "      <td>...</td>\n",
       "    </tr>\n",
       "    <tr>\n",
       "      <th>153</th>\n",
       "      <td>Rwanda</td>\n",
       "      <td>Sub-Saharan Africa</td>\n",
       "      <td>154</td>\n",
       "      <td>3.465</td>\n",
       "      <td>0.03464</td>\n",
       "      <td>0.22208</td>\n",
       "      <td>0.77370</td>\n",
       "      <td>0.42864</td>\n",
       "      <td>0.59201</td>\n",
       "      <td>0.55191</td>\n",
       "      <td>0.22628</td>\n",
       "      <td>0.67042</td>\n",
       "      <td>Rwanda</td>\n",
       "    </tr>\n",
       "    <tr>\n",
       "      <th>154</th>\n",
       "      <td>Benin</td>\n",
       "      <td>Sub-Saharan Africa</td>\n",
       "      <td>155</td>\n",
       "      <td>3.340</td>\n",
       "      <td>0.03656</td>\n",
       "      <td>0.28665</td>\n",
       "      <td>0.35386</td>\n",
       "      <td>0.31910</td>\n",
       "      <td>0.48450</td>\n",
       "      <td>0.08010</td>\n",
       "      <td>0.18260</td>\n",
       "      <td>1.63328</td>\n",
       "      <td>NaN</td>\n",
       "    </tr>\n",
       "    <tr>\n",
       "      <th>155</th>\n",
       "      <td>Syria</td>\n",
       "      <td>Middle East and Northern Africa</td>\n",
       "      <td>156</td>\n",
       "      <td>3.006</td>\n",
       "      <td>0.05015</td>\n",
       "      <td>0.66320</td>\n",
       "      <td>0.47489</td>\n",
       "      <td>0.72193</td>\n",
       "      <td>0.15684</td>\n",
       "      <td>0.18906</td>\n",
       "      <td>0.47179</td>\n",
       "      <td>0.32858</td>\n",
       "      <td>NaN</td>\n",
       "    </tr>\n",
       "    <tr>\n",
       "      <th>156</th>\n",
       "      <td>Burundi</td>\n",
       "      <td>Sub-Saharan Africa</td>\n",
       "      <td>157</td>\n",
       "      <td>2.905</td>\n",
       "      <td>0.08658</td>\n",
       "      <td>0.01530</td>\n",
       "      <td>0.41587</td>\n",
       "      <td>0.22396</td>\n",
       "      <td>0.11850</td>\n",
       "      <td>0.10062</td>\n",
       "      <td>0.19727</td>\n",
       "      <td>1.83302</td>\n",
       "      <td>Burund</td>\n",
       "    </tr>\n",
       "    <tr>\n",
       "      <th>157</th>\n",
       "      <td>Togo</td>\n",
       "      <td>Sub-Saharan Africa</td>\n",
       "      <td>158</td>\n",
       "      <td>2.839</td>\n",
       "      <td>0.06727</td>\n",
       "      <td>0.20868</td>\n",
       "      <td>0.13995</td>\n",
       "      <td>0.28443</td>\n",
       "      <td>0.36453</td>\n",
       "      <td>0.10731</td>\n",
       "      <td>0.16681</td>\n",
       "      <td>1.56726</td>\n",
       "      <td>NaN</td>\n",
       "    </tr>\n",
       "  </tbody>\n",
       "</table>\n",
       "<p>158 rows × 13 columns</p>\n",
       "</div>"
      ],
      "text/plain": [
       "         Country                           Region  Happiness Rank  \\\n",
       "0    Switzerland                   Western Europe               1   \n",
       "1        Iceland                   Western Europe               2   \n",
       "2        Denmark                   Western Europe               3   \n",
       "3         Norway                   Western Europe               4   \n",
       "4         Canada                    North America               5   \n",
       "..           ...                              ...             ...   \n",
       "153       Rwanda               Sub-Saharan Africa             154   \n",
       "154        Benin               Sub-Saharan Africa             155   \n",
       "155        Syria  Middle East and Northern Africa             156   \n",
       "156      Burundi               Sub-Saharan Africa             157   \n",
       "157         Togo               Sub-Saharan Africa             158   \n",
       "\n",
       "     Happiness Score  Standard Error  Economy (GDP per Capita)   Family  \\\n",
       "0              7.587         0.03411                   1.39651  1.34951   \n",
       "1              7.561         0.04884                   1.30232  1.40223   \n",
       "2              7.527         0.03328                   1.32548  1.36058   \n",
       "3              7.522         0.03880                   1.45900  1.33095   \n",
       "4              7.427         0.03553                   1.32629  1.32261   \n",
       "..               ...             ...                       ...      ...   \n",
       "153            3.465         0.03464                   0.22208  0.77370   \n",
       "154            3.340         0.03656                   0.28665  0.35386   \n",
       "155            3.006         0.05015                   0.66320  0.47489   \n",
       "156            2.905         0.08658                   0.01530  0.41587   \n",
       "157            2.839         0.06727                   0.20868  0.13995   \n",
       "\n",
       "     Health (Life Expectancy)  Freedom  Trust (Government Corruption)  \\\n",
       "0                     0.94143  0.66557                        0.41978   \n",
       "1                     0.94784  0.62877                        0.14145   \n",
       "2                     0.87464  0.64938                        0.48357   \n",
       "3                     0.88521  0.66973                        0.36503   \n",
       "4                     0.90563  0.63297                        0.32957   \n",
       "..                        ...      ...                            ...   \n",
       "153                   0.42864  0.59201                        0.55191   \n",
       "154                   0.31910  0.48450                        0.08010   \n",
       "155                   0.72193  0.15684                        0.18906   \n",
       "156                   0.22396  0.11850                        0.10062   \n",
       "157                   0.28443  0.36453                        0.10731   \n",
       "\n",
       "     Generosity  Dystopia Residual first_five_letters  \n",
       "0       0.29678            2.51738             Switze  \n",
       "1       0.43630            2.70201             Icelan  \n",
       "2       0.34139            2.49204             Denmar  \n",
       "3       0.34699            2.46531             Norway  \n",
       "4       0.45811            2.45176             Canada  \n",
       "..          ...                ...                ...  \n",
       "153     0.22628            0.67042             Rwanda  \n",
       "154     0.18260            1.63328                NaN  \n",
       "155     0.47179            0.32858                NaN  \n",
       "156     0.19727            1.83302             Burund  \n",
       "157     0.16681            1.56726                NaN  \n",
       "\n",
       "[158 rows x 13 columns]"
      ]
     },
     "execution_count": 10,
     "metadata": {},
     "output_type": "execute_result"
    }
   ],
   "source": [
    "df=pd.read_csv(r\"https://raw.githubusercontent.com/dsrscientist/DSData/master/happiness_score_dataset.csv\")\n",
    "df\n",
    "pattern=r'(\\w{6})'\n",
    "df['first_five_letters']=df['Country'].str.extract(pattern,expand=False)\n",
    "df\n"
   ]
  },
  {
   "cell_type": "markdown",
   "id": "5221567a",
   "metadata": {},
   "source": [
    "Question 11- Write a Python program to match a string that contains only upper and lowercase letters, numbers, and underscores."
   ]
  },
  {
   "cell_type": "code",
   "execution_count": 11,
   "id": "c7fd5514",
   "metadata": {},
   "outputs": [
    {
     "name": "stdout",
     "output_type": "stream",
     "text": [
      "<re.Match object; span=(0, 9), match='Rollnum_1'>\n",
      "the given is not matched to the given condition\n"
     ]
    }
   ],
   "source": [
    "def prog_upper(str):\n",
    "        patterns = '^[a-zA-Z0-9_]*$'\n",
    "        if re.search(patterns,str):\n",
    "            a=re.search(patterns,str)\n",
    "            return a\n",
    "        else:\n",
    "                return('the given is not matched to the given condition' )\n",
    "\n",
    "print(prog_upper(\"Rollnum_1\"))\n",
    "print(prog_upper(\"Once upon a time\"))     "
   ]
  },
  {
   "cell_type": "markdown",
   "id": "427353b6",
   "metadata": {},
   "source": [
    "Question 12- Write a Python program where a string will start with a specific number."
   ]
  },
  {
   "cell_type": "code",
   "execution_count": 12,
   "id": "cccad684",
   "metadata": {},
   "outputs": [
    {
     "name": "stdout",
     "output_type": "stream",
     "text": [
      "False\n",
      "True\n"
     ]
    }
   ],
   "source": [
    "def specific_num(str):\n",
    "    num= re.compile(r\"^9\")\n",
    "    if num.match(str):\n",
    "        return True\n",
    "    else:\n",
    "        return False\n",
    "print(specific_num('3 seats'))\n",
    "print(specific_num('9 seats'))"
   ]
  },
  {
   "cell_type": "markdown",
   "id": "228c89c3",
   "metadata": {},
   "source": [
    "Question 13- Write a Python program to remove leading zeros from an IP address"
   ]
  },
  {
   "cell_type": "code",
   "execution_count": 13,
   "id": "167f6bd2",
   "metadata": {},
   "outputs": [
    {
     "name": "stdout",
     "output_type": "stream",
     "text": [
      "IP address without leading zeros 116.73.43.140\n"
     ]
    }
   ],
   "source": [
    "ip = \"116.073.43.0140\"\n",
    "exp_ip= re.sub('\\.[0]*', '.', ip)\n",
    "print(\"IP address without leading zeros\",exp_ip)"
   ]
  },
  {
   "cell_type": "markdown",
   "id": "f652b57d",
   "metadata": {},
   "source": [
    "Question 14- Write a regular expression in python to match a date string in the form of Month name followed by day number and year stored in a text file. \n",
    "\n",
    "Sample text : ' On August 15th 1947 that India was declared independent from British colonialism, and the reins of control were handed over to the leaders of the Country’. \n",
    "    \n",
    "Expected Output- August 15th 1947 Note- Store given sample text in the text file and then extract the date string asked format."
   ]
  },
  {
   "cell_type": "code",
   "execution_count": 14,
   "id": "10c0465c",
   "metadata": {},
   "outputs": [
    {
     "name": "stdout",
     "output_type": "stream",
     "text": [
      "['August 15th 1947']\n"
     ]
    }
   ],
   "source": [
    "giv_str= \"On August 15th 1947 that India was declared independent from British colonialism, and the reins of control were handed over to the leaders of the Country.\"\n",
    "\n",
    "pattern = r\"\\b([A-Z][a-z]+ \\d{1,2}(?:st|nd|rd|th)? \\d{4})\\b\"\n",
    "\n",
    "exp_date= re.findall(pattern,giv_str)\n",
    "\n",
    "print(exp_date)"
   ]
  },
  {
   "cell_type": "markdown",
   "id": "b4767476",
   "metadata": {},
   "source": [
    "Question 15- Write a Python program to search some literals strings in a string.  \n",
    "Sample text : 'The quick brown fox jumps over the lazy dog.' Searched words : 'fox', 'dog', 'horse' "
   ]
  },
  {
   "cell_type": "code",
   "execution_count": 15,
   "id": "83feec9d",
   "metadata": {},
   "outputs": [
    {
     "name": "stdout",
     "output_type": "stream",
     "text": [
      "fox - The quick brown fox jumps over the lazy dog.\n",
      "Search word are Present in given string\n",
      "dog - The quick brown fox jumps over the lazy dog.\n",
      "Search word are Present in given string\n",
      "horse - The quick brown fox jumps over the lazy dog.\n",
      "Search word are not Present\n"
     ]
    }
   ],
   "source": [
    "pattern = ['fox', 'dog', 'horse']\n",
    "giv_sample= 'The quick brown fox jumps over the lazy dog.'\n",
    "for word in pattern:\n",
    "    print(word,\"-\",giv_sample)\n",
    "    if re.search(word,giv_sample):\n",
    "        print(\"Search word are Present in given string\")\n",
    "    else:\n",
    "        print(\"Search word are not Present\")"
   ]
  },
  {
   "cell_type": "markdown",
   "id": "3f7c4f57",
   "metadata": {},
   "source": [
    "Question 16- Write a Python program to search a literals string in a string and also find the location within the original string where the pattern occurs \n",
    "Sample text : 'The quick brown fox jumps over the lazy dog.' Searched words : 'fox"
   ]
  },
  {
   "cell_type": "code",
   "execution_count": 16,
   "id": "66f4d334",
   "metadata": {},
   "outputs": [
    {
     "name": "stdout",
     "output_type": "stream",
     "text": [
      "fox  - The quick brown fox jumps over the lazy dog. \n",
      "starting index location : 16 \n",
      "Ending Index Location: 19\n"
     ]
    }
   ],
   "source": [
    "pattern = 'fox'\n",
    "giv_sample = 'The quick brown fox jumps over the lazy dog.'\n",
    "result= re.search(pattern,giv_sample)\n",
    "startingindex = result.start()\n",
    "endingindex = result.end()\n",
    "print(result.re.pattern,\" -\",result.string, \"\\nstarting index location :\",startingindex,\"\\nEnding Index Location:\",endingindex) "
   ]
  },
  {
   "cell_type": "markdown",
   "id": "214d8e21",
   "metadata": {},
   "source": [
    "Question 17- Write a Python program to find the substrings within a string. \n",
    "\n",
    "Sample text : 'Python exercises, PHP exercises, C# exercises' \n",
    "\n",
    "Pattern : 'exercises'."
   ]
  },
  {
   "cell_type": "code",
   "execution_count": 17,
   "id": "a1904a71",
   "metadata": {},
   "outputs": [
    {
     "name": "stdout",
     "output_type": "stream",
     "text": [
      "exercises - Python exercises, PHP exercises, C# exercises\n",
      "exercises - Python exercises, PHP exercises, C# exercises\n",
      "exercises - Python exercises, PHP exercises, C# exercises\n"
     ]
    }
   ],
   "source": [
    "sample= 'Python exercises, PHP exercises, C# exercises'\n",
    "pattern = 'exercises'\n",
    "for substring in re.findall(pattern,sample):\n",
    "    print(substring,\"-\",sample)"
   ]
  },
  {
   "cell_type": "markdown",
   "id": "d06de9de",
   "metadata": {},
   "source": [
    "Question 18- Write a Python program to find the occurrence and position of the substrings within a string."
   ]
  },
  {
   "cell_type": "code",
   "execution_count": 18,
   "id": "88b2049c",
   "metadata": {},
   "outputs": [
    {
     "name": "stdout",
     "output_type": "stream",
     "text": [
      "Found the given pattern -  gold \n",
      "Starting index number - 18 \n",
      "Ending index number- 22\n"
     ]
    }
   ],
   "source": [
    "string1 = \"On March 3, 2024, gold prices across India remained largely constant. The base price for 10 grams stood at Rs 64,090.\"\n",
    "pattern = 'gold'\n",
    "for string in re.finditer(pattern,string1):\n",
    "    start= string.start()\n",
    "    end= string.end()\n",
    "    print('Found the given pattern - ' ,(string1[start:end]),\"\\nStarting index number -\",start,\"\\nEnding index number-\",end)"
   ]
  },
  {
   "cell_type": "markdown",
   "id": "8580cc3a",
   "metadata": {},
   "source": [
    "Question 19- Write a Python program to convert a date of yyyy-mm-dd format to dd-mm-yyyy format."
   ]
  },
  {
   "cell_type": "code",
   "execution_count": 19,
   "id": "54462168",
   "metadata": {},
   "outputs": [
    {
     "name": "stdout",
     "output_type": "stream",
     "text": [
      "Original date in YYY-MM-DD Format:  2024-03-03\n",
      "New date in DD-MM-YYYY Format:  03-03-2024\n"
     ]
    }
   ],
   "source": [
    "def date_format(date):\n",
    "        return re.sub(r'(\\d{4})-(\\d{1,2})-(\\d{1,2})', '\\\\3-\\\\2-\\\\1',date)\n",
    "date1 = \"2024-03-03\"\n",
    "print(\"Original date in YYY-MM-DD Format: \",date1)\n",
    "print(\"New date in DD-MM-YYYY Format: \",date_format(date1))"
   ]
  },
  {
   "cell_type": "markdown",
   "id": "0e9501c3",
   "metadata": {},
   "source": [
    "Question 20- Create a function in python to find all decimal numbers with a precision of 1 or 2 in a string. The use of the re.compile() method is mandatory. \n",
    "\n",
    "Sample Text: \"01.12 0132.123 2.31875 145.8 3.01 27.25 0.25\" \n",
    "    \n",
    "Expected Output: ['01.12', '145.8', '3.01', '27.25', '0.25']"
   ]
  },
  {
   "cell_type": "code",
   "execution_count": 20,
   "id": "1e7418c5",
   "metadata": {},
   "outputs": [
    {
     "name": "stdout",
     "output_type": "stream",
     "text": [
      "['01.12', '145.8', '3.01', '27.25', '0.25']\n"
     ]
    }
   ],
   "source": [
    "def decimal_numbers(Res):\n",
    "    pattern = re.compile(r'\\b\\d+\\.\\d{1,2}\\b')\n",
    "    matches = pattern.findall(Res)\n",
    "    return matches\n",
    "sample_1 = \"01.12 0132.123 2.31875 145.8 3.01 27.25 0.25\"\n",
    "result =decimal_numbers(sample_1)\n",
    "print(result)"
   ]
  },
  {
   "cell_type": "markdown",
   "id": "67743544",
   "metadata": {},
   "source": [
    "Question 21- Write a Python program to separate and print the numbers and their position of a given string."
   ]
  },
  {
   "cell_type": "code",
   "execution_count": 21,
   "id": "abee7afd",
   "metadata": {},
   "outputs": [
    {
     "name": "stdout",
     "output_type": "stream",
     "text": [
      "70\n",
      "Starting index position: 227\n",
      "Ending index position 229\n",
      "000\n",
      "Starting index position: 230\n",
      "Ending index position 233\n",
      "10\n",
      "Starting index position: 238\n",
      "Ending index position 240\n"
     ]
    }
   ],
   "source": [
    "Sample_ = \"According to the All India Gem and Jewellery Domestic Council (GJC), they have recently stated that prevailing global economic uncertainties and geopolitical tensions are expected to propel gold prices to a historic high of Rs 70,000 per 10 grams in the upcoming year..\"\n",
    "\n",
    "for num in re.finditer(\"\\d+\", Sample_):\n",
    "    print(num.group(0))\n",
    "    print(\"Starting index position:\", num.start())\n",
    "    print(\"Ending index position\",num.end())\n",
    "    "
   ]
  },
  {
   "cell_type": "markdown",
   "id": "9f8044ef",
   "metadata": {},
   "source": [
    "Question 22- Write a regular expression in python program to extract maximum/largest numeric value from a string. \n",
    "\n",
    "Sample Text: 'My marks in each semester are: 947, 896, 926, 524, 734, 950, 642'\n",
    "\n",
    "Expected Output: 950"
   ]
  },
  {
   "cell_type": "code",
   "execution_count": 22,
   "id": "300a2ae1",
   "metadata": {},
   "outputs": [
    {
     "name": "stdout",
     "output_type": "stream",
     "text": [
      "[947, 896, 926, 524, 734, 950, 642]\n",
      "The maximum numeric value in the Sample text is: 950\n"
     ]
    }
   ],
   "source": [
    "Sample= 'My marks in each semester are: 947, 896, 926, 524, 734, 950, 642'\n",
    "numeric = re.findall(r'\\d+',Sample)\n",
    "numeric = [int(val) for val in numeric]\n",
    "print(numeric)\n",
    "maximum_value = max(numeric)\n",
    "print(f\"The maximum numeric value in the Sample text is: {maximum_value}\")"
   ]
  },
  {
   "cell_type": "markdown",
   "id": "4aa2062a",
   "metadata": {},
   "source": [
    "Question 23- Create a function in python to insert spaces between words starting with capital letters. \n",
    "\n",
    "Sample Text: “RegularExpressionIsAnImportantTopicInPython\" \n",
    "\n",
    "Expected Output: Regular Expression Is An Important Topic In Python "
   ]
  },
  {
   "cell_type": "code",
   "execution_count": 23,
   "id": "7476f5ab",
   "metadata": {},
   "outputs": [
    {
     "name": "stdout",
     "output_type": "stream",
     "text": [
      "Regular Expression Is An Important Topic In Python\n"
     ]
    }
   ],
   "source": [
    "def insert_spaces(string):\n",
    "  return re.sub(r\"(\\w)([A-Z])\", r\"\\1 \\2\", string)\n",
    "\n",
    "print(insert_spaces(\"RegularExpressionIsAnImportantTopicInPython\"))"
   ]
  },
  {
   "cell_type": "markdown",
   "id": "b3f88c7f",
   "metadata": {},
   "source": [
    "Question 24- Python regex to find sequences of one upper case letter followed by lower case letters"
   ]
  },
  {
   "cell_type": "code",
   "execution_count": 24,
   "id": "89facdb0",
   "metadata": {},
   "outputs": [
    {
     "name": "stdout",
     "output_type": "stream",
     "text": [
      "['Expression']\n",
      "Found a sequence\n",
      "Not a Match\n"
     ]
    }
   ],
   "source": [
    "def upper_lower(string):\n",
    "        pattern= '[A-Z]+[a-z]+$'\n",
    "        if re.findall(pattern,string):\n",
    "            print(re.findall(pattern,string))\n",
    "            return ('Found a sequence')\n",
    "        else:\n",
    "            return('Not a Match')\n",
    "print(upper_lower(\"Expression\"))\n",
    "\n",
    "print(upper_lower(\"IMPORTANT\"))"
   ]
  },
  {
   "cell_type": "markdown",
   "id": "bae716f1",
   "metadata": {},
   "source": [
    "Question 25- Write a Python program to remove continuous duplicate words from Sentence using Regular Expression. \n",
    "\n",
    "Sample Text: \"Hello hello world world\"\n",
    "    \n",
    "Expected Output: Hello hello world "
   ]
  },
  {
   "cell_type": "code",
   "execution_count": 25,
   "id": "474fa5be",
   "metadata": {},
   "outputs": [
    {
     "name": "stdout",
     "output_type": "stream",
     "text": [
      "Hello hello world\n"
     ]
    }
   ],
   "source": [
    "def remove_duplicates(sentence):\n",
    "  pattern = r'\\b(\\w+)(\\s+\\1\\b)+'\n",
    "  ans = re.sub(pattern, r'\\1', string)\n",
    "  return ans\n",
    "\n",
    "string = \"Hello hello world world\"\n",
    "result = remove_duplicates(string)\n",
    "print(result)"
   ]
  },
  {
   "cell_type": "markdown",
   "id": "e7673526",
   "metadata": {},
   "source": [
    "Question 26- Write a python program using RegEx to accept string ending with alphanumeric character."
   ]
  },
  {
   "cell_type": "code",
   "execution_count": 26,
   "id": "8d34a787",
   "metadata": {},
   "outputs": [
    {
     "name": "stdout",
     "output_type": "stream",
     "text": [
      "<re.Match object; span=(16, 17), match='n'>\n",
      "\n",
      "The string is ending with alphanumeric character\n",
      "None\n",
      "\n",
      "The string is not ending with alphanumeric character\n",
      "None\n"
     ]
    }
   ],
   "source": [
    "pattern= '[a-zA-z0-9]$'\n",
    "\n",
    "def end_string(string):\n",
    "    if(re.search(pattern,string)):\n",
    "      print(re.search(pattern,string))\n",
    "      print(\"\\nThe string is ending with alphanumeric character\")\n",
    "    else:\n",
    "      print(\"\\nThe string is not ending with alphanumeric character\")\n",
    "print(end_string(\"RegularExpression\"))\n",
    "print(end_string(\"REgularExpression \"))"
   ]
  },
  {
   "cell_type": "markdown",
   "id": "1d3d3c51",
   "metadata": {},
   "source": [
    "Question 27-Write a python program using RegEx to extract the hashtags.\n",
    "\n",
    "Sample Text:  \"\"\"RT @kapil_kausik: #Doltiwal I mean #xyzabc is \"hurt\" by #Demonetization as the same has rendered USELESS <ed><U+00A0><U+00BD><ed><U+00B1><U+0089> \"acquired funds\" No wo\"\"\" \n",
    "\n",
    "Expected Output: ['#Doltiwal', '#xyzabc', '#Demonetization'] "
   ]
  },
  {
   "cell_type": "code",
   "execution_count": 27,
   "id": "05f5dfb4",
   "metadata": {},
   "outputs": [
    {
     "name": "stdout",
     "output_type": "stream",
     "text": [
      "['#Doltiwal', '#xyzabc', '#Demonetization']\n"
     ]
    }
   ],
   "source": [
    "def extract_hashtag(string):\n",
    "  pattern= re.findall(r'#\\w+',string)\n",
    "  return pattern\n",
    "Sample_Text= \"\"\"RT @kapil_kausik: #Doltiwal I mean #xyzabc is \"hurt\" by #Demonetization as the same has rendered USELESS <ed><U+00A0><U+00BD><ed><U+00B1><U+0089> \"acquired funds\" No wo\"\"\"\n",
    "output= extract_hashtag(Sample_Text)\n",
    "print(output)"
   ]
  },
  {
   "cell_type": "markdown",
   "id": "1de5c8c4",
   "metadata": {},
   "source": [
    "Question 28- Write a python program using RegEx to remove <U+..> like symbols\n",
    "Check the below sample text, there are strange symbols something of the sort <U+..> all over the place. You need to come up with a general Regex expression that will cover all such symbols.\n",
    "\n",
    "Sample Text: \"@Jags123456 Bharat band on 28??<ed><U+00A0><U+00BD><ed><U+00B8><U+0082>Those who  are protesting #demonetization  are all different party leaders\"\n",
    "\n",
    "    Expected Output: @Jags123456 Bharat band on 28??<ed><ed>Those who  are protesting #demonetization  are all different party leaders\n"
   ]
  },
  {
   "cell_type": "code",
   "execution_count": 28,
   "id": "f350b855",
   "metadata": {},
   "outputs": [
    {
     "name": "stdout",
     "output_type": "stream",
     "text": [
      "@Jags123456 Bharat band on 28??<ed><ed>Those who are protesting #demonetization are all different party leaders\n"
     ]
    }
   ],
   "source": [
    "Sample_text = \"@Jags123456 Bharat band on 28??<ed><U+00A0><U+00BD><ed><U+00B8><U+0082>Those who are protesting #demonetization are all different party leaders\"\n",
    "\n",
    "pattern = r\"<U\\+\\w{4}>\"\n",
    "output= re.sub(pattern, \"\",Sample_text)\n",
    "\n",
    "print(output)"
   ]
  },
  {
   "cell_type": "markdown",
   "id": "bdfcf937",
   "metadata": {},
   "source": [
    "\n",
    "Question 29- Write a python program to extract dates from the text stored in the text file.\n",
    "\n",
    "Sample Text: Ron was born on 12-09-1992 and he was admitted to school 15-12-1999.\n",
    "\n",
    "Note- Store this sample text in the file and then extract dates.\n"
   ]
  },
  {
   "cell_type": "code",
   "execution_count": 29,
   "id": "ecb05256",
   "metadata": {},
   "outputs": [
    {
     "name": "stdout",
     "output_type": "stream",
     "text": [
      "12-09-1992\n",
      "15-12-1999\n"
     ]
    }
   ],
   "source": [
    "with open(r\"C:\\Users\\sesur\\OneDrive\\sampletextfile.txt\", 'r') as file:\n",
    "  sample= file.read()\n",
    "pattern = r'\\d{2}-\\d{2}-\\d{4}'\n",
    "output= re.findall(pattern,sample)\n",
    "for date in output:\n",
    "  print(date)"
   ]
  },
  {
   "cell_type": "markdown",
   "id": "5055fbf4",
   "metadata": {},
   "source": [
    "Question 30- Create a function in python to remove all words from a string of length between 2 and 4.\n",
    "The use of the re.compile() method is mandatory.\n",
    "\n",
    "Sample Text: \"The following example creates an ArrayList with a capacity of 50 elements. 4 elements are then added to the ArrayList and the ArrayList is trimmed accordingly.\"\n",
    "\n",
    "Expected Output:  following example creates ArrayList a capacity elements. 4 elements added ArrayList ArrayList trimmed accordingly.\n"
   ]
  },
  {
   "cell_type": "code",
   "execution_count": 31,
   "id": "44f9aa51",
   "metadata": {},
   "outputs": [
    {
     "name": "stdout",
     "output_type": "stream",
     "text": [
      " following example creates  ArrayList  a capacity   elements. 4 elements   added   ArrayList   ArrayList  trimmed accordingly.\n"
     ]
    }
   ],
   "source": [
    "def removeallword(string):\n",
    "  pattern = re.compile(r'\\b\\w{2,4}\\b')\n",
    "  string1= re.sub(pattern, '', string)\n",
    "  return string1\n",
    "sampleText = \"The following example creates an ArrayList with a capacity of 50 elements. 4 elements are then added to the ArrayList and the ArrayList is trimmed accordingly.\"\n",
    "result = removeallword(sampleText)\n",
    "print(result)"
   ]
  },
  {
   "cell_type": "code",
   "execution_count": null,
   "id": "8f5e7e88",
   "metadata": {},
   "outputs": [],
   "source": []
  },
  {
   "cell_type": "code",
   "execution_count": null,
   "id": "0c5554bd",
   "metadata": {},
   "outputs": [],
   "source": []
  },
  {
   "cell_type": "code",
   "execution_count": null,
   "id": "67f80f23",
   "metadata": {},
   "outputs": [],
   "source": []
  },
  {
   "cell_type": "code",
   "execution_count": null,
   "id": "64131787",
   "metadata": {},
   "outputs": [],
   "source": []
  },
  {
   "cell_type": "code",
   "execution_count": null,
   "id": "1a5aa13f",
   "metadata": {},
   "outputs": [],
   "source": []
  }
 ],
 "metadata": {
  "kernelspec": {
   "display_name": "Python 3 (ipykernel)",
   "language": "python",
   "name": "python3"
  },
  "language_info": {
   "codemirror_mode": {
    "name": "ipython",
    "version": 3
   },
   "file_extension": ".py",
   "mimetype": "text/x-python",
   "name": "python",
   "nbconvert_exporter": "python",
   "pygments_lexer": "ipython3",
   "version": "3.11.4"
  }
 },
 "nbformat": 4,
 "nbformat_minor": 5
}
